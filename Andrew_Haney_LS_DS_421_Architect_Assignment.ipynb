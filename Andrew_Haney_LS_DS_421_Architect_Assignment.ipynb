{
  "nbformat": 4,
  "nbformat_minor": 0,
  "metadata": {
    "accelerator": "GPU",
    "colab": {
      "name": "Andrew-Haney_LS_DS_421_Architect_Assignment.ipynb",
      "provenance": [],
      "collapsed_sections": []
    },
    "kernelspec": {
      "display_name": "Python 3",
      "language": "python",
      "name": "python3"
    },
    "language_info": {
      "codemirror_mode": {
        "name": "ipython",
        "version": 3
      },
      "file_extension": ".py",
      "mimetype": "text/x-python",
      "name": "python",
      "nbconvert_exporter": "python",
      "pygments_lexer": "ipython3",
      "version": "3.8.5"
    }
  },
  "cells": [
    {
      "cell_type": "markdown",
      "metadata": {
        "id": "ObyHCH8HvHSf"
      },
      "source": [
        "\n",
        "# *Data Science Unit 4 Sprint 2 Assignment 1*\n",
        "\n",
        "Use TensorFlow Keras & a sample of the [Quickdraw dataset](https://github.com/googlecreativelab/quickdraw-dataset) to build a sketch classification model. The dataset has been sampled to only 10 classes and 10000 observations per class. \n",
        "\n",
        "### Objective\n",
        "\n",
        "- Build a baseline classification model then run a few experiments with different optimizers and learning rates. \n",
        "- Don't forgot to [**switch to GPU on if you're running your notebook on Colab!**](https://colab.research.google.com/notebooks/gpu.ipynb)"
      ]
    },
    {
      "cell_type": "markdown",
      "metadata": {
        "id": "s-Tc3ovEyQ9b"
      },
      "source": [
        "## Load Your Data"
      ]
    },
    {
      "cell_type": "code",
      "metadata": {
        "id": "CkU0pAYCvU8o"
      },
      "source": [
        "# imports in first cell \n",
        "import seaborn as sns\n",
        "import pandas as pd\n",
        "import numpy as np\n",
        "import tensorflow as tf \n",
        "import matplotlib.pyplot as plt\n",
        "from sklearn.utils import shuffle\n",
        "\n",
        "# use Sequential to build out your model\n",
        "from tensorflow.keras.models import Sequential\n",
        "\n",
        "# Dense layer is used for Fully Connected Forward Feeding networks\n",
        "from tensorflow.keras.layers import Dense"
      ],
      "execution_count": 1,
      "outputs": []
    },
    {
      "cell_type": "code",
      "metadata": {
        "colab": {
          "base_uri": "https://localhost:8080/"
        },
        "id": "srvT3i7yOTOF",
        "outputId": "35566c53-69aa-4817-c946-be09bfa2fa99"
      },
      "source": [
        "# load in data set\n",
        "data = np.load('quickdraw10.npz')\n",
        "X = data['arr_0']\n",
        "y = data['arr_1']\n",
        "\n",
        "\n",
        "print(X.shape)\n",
        "print(y.shape)"
      ],
      "execution_count": 43,
      "outputs": [
        {
          "output_type": "stream",
          "text": [
            "(100000, 784)\n",
            "(100000,)\n"
          ],
          "name": "stdout"
        }
      ]
    },
    {
      "cell_type": "code",
      "metadata": {
        "id": "c8qsDqdqvHDd"
      },
      "source": [
        "class_names = ['apple',\n",
        "             'anvil',\n",
        "             'airplane',\n",
        "             'banana',\n",
        "             'The Eiffel Tower',\n",
        "             'The Mona Lisa',\n",
        "             'The Great Wall of China',\n",
        "             'alarm clock',\n",
        "             'ant',\n",
        "             'asparagus']"
      ],
      "execution_count": 44,
      "outputs": []
    },
    {
      "cell_type": "code",
      "metadata": {
        "colab": {
          "base_uri": "https://localhost:8080/",
          "height": 289
        },
        "id": "Owbm1EbxvA5A",
        "outputId": "1a23053c-1e4f-4436-affb-212ece5e6268"
      },
      "source": [
        "# these are your 10 unique images\n",
        "plt.figure(figsize=(10,5))\n",
        "start = 0\n",
        "\n",
        "for num, name in enumerate(class_names):\n",
        "    plt.subplot(2,5, num+1)\n",
        "    plt.xticks([])\n",
        "    plt.yticks([])\n",
        "    plt.grid(False)\n",
        "    plt.imshow(X[start].reshape(28,28), cmap=plt.cm.binary)\n",
        "    plt.xlabel(name)\n",
        "    start += 10000\n",
        "plt.show()"
      ],
      "execution_count": 45,
      "outputs": [
        {
          "output_type": "display_data",
          "data": {
            "image/png": "[encoded data removed]",
            "text/plain": [
              "<Figure size 720x360 with 10 Axes>"
            ]
          },
          "metadata": {
            "tags": []
          }
        }
      ]
    },
    {
      "cell_type": "markdown",
      "metadata": {
        "id": "S2FBf--9OTOH"
      },
      "source": [
        "Say hello to the Quickdraw dataset. \n",
        "\n",
        "You'll be using this dataset a lot this week as an alternative to the mnist which we'll be using in the guided projects. The nice thing about this dataset is that it's simple, which allows us to focus on our model, it's various components, and gradually coming to a better understand of how to build neural networks without worrying about cleaning and preping our image data too much. "
      ]
    },
    {
      "cell_type": "code",
      "metadata": {
        "id": "c97_M1WNvTNY"
      },
      "source": [
        "# always a good idea to shuffle your dataset \n",
        "X, y = shuffle(X, y)"
      ],
      "execution_count": 46,
      "outputs": []
    },
    {
      "cell_type": "markdown",
      "metadata": {
        "id": "jb70CbLVyK65"
      },
      "source": [
        "-----\n",
        "\n",
        "## Build Your Baseline Model\n",
        "\n",
        "Make sure that you\n",
        "\n",
        "- **Determine** the dimensionality of your input data by investigating **X**\n",
        "- **Normalize** your input data to values between 0 and 1 \n",
        "- **Determine** the number of neurons in your output layer by investigating **Y**\n",
        "- **Select** `sparse_categorical_crossentropy` as your loss function.\n",
        "- **Select** `sgd` as your optimizer.\n",
        "- **Add** 3 hidden layers to your model with the following number of nodes\n",
        "    - h1 has 500 nodes\n",
        "    - h2 has 250 nodes\n",
        "    - h3 has 100 nodes\n",
        "    \n",
        "- **Set** epochs to 20 \n",
        "- **Use** the `validation_split` command to automatically create a training / validation dataset from within the model, so you don't have to do it yourself.\n",
        "    -  Specify a percentage such as .2 in your fit statement.\n",
        " \n",
        " \n",
        "Not sure what the various parameters are for or what what values to assign to them?\n",
        "\n",
        "- Reference the guided project notebook for Sprint 2 Module 1\n",
        "- Reference the [**Keras documentation**](https://keras.io/api/)\n",
        "- Google other examples\n",
        "- Discuss your results with classmates "
      ]
    },
    {
      "cell_type": "code",
      "metadata": {
        "colab": {
          "base_uri": "https://localhost:8080/"
        },
        "id": "2QSHteabTNTw",
        "outputId": "b23aee54-0e62-4659-d49b-8a1dcd3070ea"
      },
      "source": [
        "len(np.unique(y))"
      ],
      "execution_count": 47,
      "outputs": [
        {
          "output_type": "execute_result",
          "data": {
            "text/plain": [
              "10"
            ]
          },
          "metadata": {
            "tags": []
          },
          "execution_count": 47
        }
      ]
    },
    {
      "cell_type": "code",
      "metadata": {
        "deletable": false,
        "nbgrader": {
          "cell_type": "code",
          "checksum": "ef20dd34df6998e0a50e394d59d58659",
          "grade": false,
          "grade_id": "cell-907b9348d7a2ebb3",
          "locked": false,
          "schema_version": 3,
          "solution": true,
          "task": false
        },
        "colab": {
          "base_uri": "https://localhost:8080/"
        },
        "id": "iDJfEB1rOTOI",
        "outputId": "98f6ef9f-b235-4f33-e13c-53eb0aefe9af"
      },
      "source": [
        "# get dim of image row vectors and save to imput_dim\n",
        "\n",
        "# get number of unique labels and save to n_output_nodels\n",
        "\n",
        "# normalize image data to values between 0 and 1 (by dividing by max pixel value)\n",
        "\n",
        "\n",
        "max_pixel_val = X.max()\n",
        "\n",
        "X_scaled = X/max_pixel_val\n",
        "\n",
        "n_imgs = X_scaled.shape[0]\n",
        "\n",
        "input_dims = n_imgs\n",
        "\n",
        "n_output_nodels = len(np.unique(y))\n",
        "\n",
        "X_scaled.min(), X_scaled.max()"
      ],
      "execution_count": 48,
      "outputs": [
        {
          "output_type": "execute_result",
          "data": {
            "text/plain": [
              "(0.0, 1.0)"
            ]
          },
          "metadata": {
            "tags": []
          },
          "execution_count": 48
        }
      ]
    },
    {
      "cell_type": "code",
      "metadata": {
        "id": "mwJFsxdCOTOJ"
      },
      "source": [
        "# a check on your data prep \n",
        "assert  X_scaled.max(), \"Max pixel value should be 1.0, make sure you normalize your data\""
      ],
      "execution_count": 49,
      "outputs": []
    },
    {
      "cell_type": "code",
      "metadata": {
        "deletable": false,
        "id": "zHWblzsMyNkU",
        "nbgrader": {
          "cell_type": "code",
          "checksum": "f0ba174cb72f491f73c3aa7df8ae7ac4",
          "grade": false,
          "grade_id": "cell-b7c96fc46d86725f",
          "locked": false,
          "schema_version": 3,
          "solution": true,
          "task": false
        }
      },
      "source": [
        "# instantiate a sequential object and call it model, then add layers to your model\n",
        "model = Sequential()\n",
        "\n",
        "model.add(Dense(500, activation='sigmoid', input_dim=784))\n",
        "model.add(Dense(250, activation='sigmoid'))\n",
        "model.add(Dense(100, activation='sigmoid'))\n",
        "model.add(Dense(n_output_nodels, activation='softmax'))\n",
        "\n",
        "# add a compile layer but don't fit your model yet \n",
        "model.compile(optimizer= 'sgd',\n",
        "              loss= 'sparse_categorical_crossentropy',\n",
        "              metrics= ['accuracy'])\n"
      ],
      "execution_count": 60,
      "outputs": []
    },
    {
      "cell_type": "code",
      "metadata": {
        "id": "VXobpvuXOTOJ"
      },
      "source": [
        "# a check on your model architecture \n",
        "n_layers = len(model.get_config()[\"layers\"])\n",
        "assert n_layers == 5, \"You should have 5 layers: input, h1, h2, h3, and output\""
      ],
      "execution_count": 61,
      "outputs": []
    },
    {
      "cell_type": "code",
      "metadata": {
        "colab": {
          "base_uri": "https://localhost:8080/"
        },
        "id": "g3ts_yLpOTOK",
        "outputId": "29d9cdf0-ae8e-4902-ed5d-a3732fde496e"
      },
      "source": [
        "# check out your model summary \n",
        "model.summary()"
      ],
      "execution_count": 62,
      "outputs": [
        {
          "output_type": "stream",
          "text": [
            "Model: \"sequential_9\"\n",
            "_________________________________________________________________\n",
            "Layer (type)                 Output Shape              Param #   \n",
            "=================================================================\n",
            "dense_32 (Dense)             (None, 500)               392500    \n",
            "_________________________________________________________________\n",
            "dense_33 (Dense)             (None, 250)               125250    \n",
            "_________________________________________________________________\n",
            "dense_34 (Dense)             (None, 100)               25100     \n",
            "_________________________________________________________________\n",
            "dense_35 (Dense)             (None, 10)                1010      \n",
            "=================================================================\n",
            "Total params: 543,860\n",
            "Trainable params: 543,860\n",
            "Non-trainable params: 0\n",
            "_________________________________________________________________\n"
          ],
          "name": "stdout"
        }
      ]
    },
    {
      "cell_type": "code",
      "metadata": {
        "colab": {
          "base_uri": "https://localhost:8080/"
        },
        "id": "_4YV0axLOTOK",
        "outputId": "62ae3ac0-57f2-44a3-ddbe-26ae0bd5f31c"
      },
      "source": [
        "# fit your model and save training resuts to history \n",
        "\n",
        "history = model.fit(X_scaled, y,\n",
        "                    epochs=20, \n",
        "                    validation_split=0.2)"
      ],
      "execution_count": 63,
      "outputs": [
        {
          "output_type": "stream",
          "text": [
            "Epoch 1/20\n",
            "2500/2500 [==============================] - 11s 4ms/step - loss: 2.3047 - accuracy: 0.1155 - val_loss: 2.2748 - val_accuracy: 0.1884\n",
            "Epoch 2/20\n",
            "2500/2500 [==============================] - 9s 3ms/step - loss: 2.2549 - accuracy: 0.2341 - val_loss: 2.1291 - val_accuracy: 0.4333\n",
            "Epoch 3/20\n",
            "2500/2500 [==============================] - 9s 3ms/step - loss: 2.0168 - accuracy: 0.4049 - val_loss: 1.7282 - val_accuracy: 0.4612\n",
            "Epoch 4/20\n",
            "2500/2500 [==============================] - 9s 3ms/step - loss: 1.6500 - accuracy: 0.4904 - val_loss: 1.4604 - val_accuracy: 0.5295\n",
            "Epoch 5/20\n",
            "2500/2500 [==============================] - 9s 3ms/step - loss: 1.4112 - accuracy: 0.5668 - val_loss: 1.2470 - val_accuracy: 0.6340\n",
            "Epoch 6/20\n",
            "2500/2500 [==============================] - 9s 3ms/step - loss: 1.2052 - accuracy: 0.6350 - val_loss: 1.0948 - val_accuracy: 0.6733\n",
            "Epoch 7/20\n",
            "2500/2500 [==============================] - 9s 3ms/step - loss: 1.0780 - accuracy: 0.6684 - val_loss: 1.0190 - val_accuracy: 0.6938\n",
            "Epoch 8/20\n",
            "2500/2500 [==============================] - 9s 3ms/step - loss: 1.0168 - accuracy: 0.6885 - val_loss: 0.9826 - val_accuracy: 0.7002\n",
            "Epoch 9/20\n",
            "2500/2500 [==============================] - 9s 3ms/step - loss: 0.9795 - accuracy: 0.7014 - val_loss: 0.9566 - val_accuracy: 0.7104\n",
            "Epoch 10/20\n",
            "2500/2500 [==============================] - 9s 3ms/step - loss: 0.9566 - accuracy: 0.7103 - val_loss: 0.9348 - val_accuracy: 0.7227\n",
            "Epoch 11/20\n",
            "2500/2500 [==============================] - 9s 3ms/step - loss: 0.9404 - accuracy: 0.7186 - val_loss: 0.9139 - val_accuracy: 0.7276\n",
            "Epoch 12/20\n",
            "2500/2500 [==============================] - 9s 3ms/step - loss: 0.9185 - accuracy: 0.7248 - val_loss: 0.8941 - val_accuracy: 0.7358\n",
            "Epoch 13/20\n",
            "2500/2500 [==============================] - 9s 3ms/step - loss: 0.8992 - accuracy: 0.7288 - val_loss: 0.8786 - val_accuracy: 0.7374\n",
            "Epoch 14/20\n",
            "2500/2500 [==============================] - 9s 3ms/step - loss: 0.8764 - accuracy: 0.7379 - val_loss: 0.8634 - val_accuracy: 0.7444\n",
            "Epoch 15/20\n",
            "2500/2500 [==============================] - 9s 3ms/step - loss: 0.8690 - accuracy: 0.7391 - val_loss: 0.8493 - val_accuracy: 0.7484\n",
            "Epoch 16/20\n",
            "2500/2500 [==============================] - 9s 3ms/step - loss: 0.8484 - accuracy: 0.7462 - val_loss: 0.8346 - val_accuracy: 0.7519\n",
            "Epoch 17/20\n",
            "2500/2500 [==============================] - 9s 3ms/step - loss: 0.8374 - accuracy: 0.7478 - val_loss: 0.8208 - val_accuracy: 0.7577\n",
            "Epoch 18/20\n",
            "2500/2500 [==============================] - 9s 3ms/step - loss: 0.8257 - accuracy: 0.7549 - val_loss: 0.8092 - val_accuracy: 0.7604\n",
            "Epoch 19/20\n",
            "2500/2500 [==============================] - 9s 3ms/step - loss: 0.8115 - accuracy: 0.7562 - val_loss: 0.7996 - val_accuracy: 0.7638\n",
            "Epoch 20/20\n",
            "2500/2500 [==============================] - 9s 3ms/step - loss: 0.8033 - accuracy: 0.7588 - val_loss: 0.7896 - val_accuracy: 0.7654\n"
          ],
          "name": "stdout"
        }
      ]
    },
    {
      "cell_type": "markdown",
      "metadata": {
        "id": "b0QJURWh-9uv"
      },
      "source": [
        "----\n",
        "### Visualize the results\n",
        "\n",
        "- Move results in `history` in a dataframe \n",
        "- Use [**Seaborn**](https://seaborn.pydata.org/generated/seaborn.lineplot.html) to create lineplots for both loss and accuracy by epoch. \n",
        "- Analyze the results and write a couple of obsverations. \n",
        "\n",
        "At what point should we have stopped training the model and why? "
      ]
    },
    {
      "cell_type": "code",
      "metadata": {
        "colab": {
          "base_uri": "https://localhost:8080/",
          "height": 355
        },
        "deletable": false,
        "id": "ijAlzfYKAFaY",
        "nbgrader": {
          "cell_type": "code",
          "checksum": "6ef8cde40701c2ef57cf853b19455125",
          "grade": false,
          "grade_id": "cell-16e647cfc3291a01",
          "locked": false,
          "schema_version": 3,
          "solution": true,
          "task": false
        },
        "outputId": "3c211281-1171-4b87-c8e4-a70a824d1839"
      },
      "source": [
        "df = pd.DataFrame(data=history.history['accuracy'])\n",
        "epochs = [i for i in range(len(history.history['loss']))]\n",
        "sns.lineplot(epochs, history.history['loss'], label='train')\n",
        "sns.lineplot(epochs, history.history['val_loss'], label= 'test');"
      ],
      "execution_count": 74,
      "outputs": [
        {
          "output_type": "stream",
          "text": [
            "/usr/local/lib/python3.7/dist-packages/seaborn/_decorators.py:43: FutureWarning: Pass the following variables as keyword args: x, y. From version 0.12, the only valid positional argument will be `data`, and passing other arguments without an explicit keyword will result in an error or misinterpretation.\n",
            "  FutureWarning\n",
            "/usr/local/lib/python3.7/dist-packages/seaborn/_decorators.py:43: FutureWarning: Pass the following variables as keyword args: x, y. From version 0.12, the only valid positional argument will be `data`, and passing other arguments without an explicit keyword will result in an error or misinterpretation.\n",
            "  FutureWarning\n"
          ],
          "name": "stderr"
        },
        {
          "output_type": "display_data",
          "data": {
            "image/png": "[encoded data removed]",
            "text/plain": [
              "<Figure size 432x288 with 1 Axes>"
            ]
          },
          "metadata": {
            "tags": [],
            "needs_background": "light"
          }
        }
      ]
    },
    {
      "cell_type": "code",
      "metadata": {
        "id": "JyC74a6zOTOM"
      },
      "source": [
        "# a check on our model training\n",
        "assert df.shape[0] == 20, \"df should have the training results from 20 epochs\""
      ],
      "execution_count": 75,
      "outputs": []
    },
    {
      "cell_type": "code",
      "metadata": {
        "colab": {
          "base_uri": "https://localhost:8080/",
          "height": 355
        },
        "deletable": false,
        "nbgrader": {
          "cell_type": "code",
          "checksum": "424d241660318a72ecda935be10485d7",
          "grade": false,
          "grade_id": "cell-96dba18873c4cffc",
          "locked": false,
          "schema_version": 3,
          "solution": true,
          "task": false
        },
        "id": "dRPxkcltOTOM",
        "outputId": "bd16fa19-0551-4e53-f266-1bc26b9c5d28"
      },
      "source": [
        "# use the plotting method in your dataframe to plot the modeling results \n",
        "sns.lineplot(epochs, history.history['loss'], label='train')\n",
        "sns.lineplot(epochs, history.history['val_loss'], label= 'test');"
      ],
      "execution_count": 80,
      "outputs": [
        {
          "output_type": "stream",
          "text": [
            "/usr/local/lib/python3.7/dist-packages/seaborn/_decorators.py:43: FutureWarning: Pass the following variables as keyword args: x, y. From version 0.12, the only valid positional argument will be `data`, and passing other arguments without an explicit keyword will result in an error or misinterpretation.\n",
            "  FutureWarning\n",
            "/usr/local/lib/python3.7/dist-packages/seaborn/_decorators.py:43: FutureWarning: Pass the following variables as keyword args: x, y. From version 0.12, the only valid positional argument will be `data`, and passing other arguments without an explicit keyword will result in an error or misinterpretation.\n",
            "  FutureWarning\n"
          ],
          "name": "stderr"
        },
        {
          "output_type": "display_data",
          "data": {
            "image/png": "[encoded data removed]",
            "text/plain": [
              "<Figure size 432x288 with 1 Axes>"
            ]
          },
          "metadata": {
            "tags": [],
            "needs_background": "light"
          }
        }
      ]
    },
    {
      "cell_type": "markdown",
      "metadata": {
        "id": "wA-Xx6olOTOM"
      },
      "source": [
        "### Observations \n",
        "\n",
        "Based on the plot of the training and validation loss answer the following questions. "
      ]
    },
    {
      "cell_type": "markdown",
      "metadata": {
        "id": "GmhwStzoOTON"
      },
      "source": [
        "**Was our model able to learn over the course of the 20 epochs? Why or why not?**"
      ]
    },
    {
      "cell_type": "markdown",
      "metadata": {
        "deletable": false,
        "nbgrader": {
          "cell_type": "markdown",
          "checksum": "b7713eb32ad3a910a58dfdb9494a9db3",
          "grade": true,
          "grade_id": "cell-820990a8232a858a",
          "locked": false,
          "points": 0,
          "schema_version": 3,
          "solution": true,
          "task": false
        },
        "id": "5ykYUpKsOTON"
      },
      "source": [
        "Yes, but very minimal improvement after 12.5 epochs.  The loss did continue to drop but at minimal rates."
      ]
    },
    {
      "cell_type": "markdown",
      "metadata": {
        "id": "7G23vrnyOTON"
      },
      "source": [
        "**Is our model overfitting? Why or why not?**"
      ]
    },
    {
      "cell_type": "markdown",
      "metadata": {
        "deletable": false,
        "nbgrader": {
          "cell_type": "markdown",
          "checksum": "1d30c64465cd35081d70578c20ecf96d",
          "grade": true,
          "grade_id": "cell-33868e7ef6e401b5",
          "locked": false,
          "points": 0,
          "schema_version": 3,
          "solution": true,
          "task": false
        },
        "id": "Xrm2gbjOOTOO"
      },
      "source": [
        "No it is not.  If it were there would be major discrepancies between the training accuracy and test accuracy.  In this case, these are nearly identical in accuracy and loss."
      ]
    },
    {
      "cell_type": "markdown",
      "metadata": {
        "id": "va4-Dyb2OTOO"
      },
      "source": [
        "**Could the model score benefit from additional epochs? Why or why not?**"
      ]
    },
    {
      "cell_type": "markdown",
      "metadata": {
        "deletable": false,
        "nbgrader": {
          "cell_type": "markdown",
          "checksum": "0fc2208e2c78461578fc7a05224066b8",
          "grade": true,
          "grade_id": "cell-5c883f0a3161e469",
          "locked": false,
          "points": 0,
          "schema_version": 3,
          "solution": true,
          "task": false
        },
        "id": "pUENtSKFOTOO"
      },
      "source": [
        "It could benefit but it would only yield about another 1% or so in accuracy so it probably isn't worth the extra time."
      ]
    },
    {
      "cell_type": "markdown",
      "metadata": {
        "id": "MAhBrcE4yOZe"
      },
      "source": [
        "-----\n",
        "## Change Optimizers\n",
        "\n",
        "Let's compare model performance between difference optimizers. \n",
        "- Build a new model, identical as the last one but using `adam` for the optimizer. \n",
        "- Visualize the training results just as we did for the last model. \n",
        "- Save modeling results to adam_history so we don't erase the results from the previous model run"
      ]
    },
    {
      "cell_type": "code",
      "metadata": {
        "deletable": false,
        "id": "jIW_spOZ0cxy",
        "nbgrader": {
          "cell_type": "code",
          "checksum": "6d30d8c6f4521861a77c9ef04dbde904",
          "grade": false,
          "grade_id": "cell-56663c8a5e75b71f",
          "locked": false,
          "schema_version": 3,
          "solution": true,
          "task": false
        }
      },
      "source": [
        "# train same model as above but use sgd if you used adam previously ( or use adam if you used sgd previously)\n",
        "model = Sequential()\n",
        "\n",
        "model.add(Dense(500, activation='sigmoid', input_dim=784))\n",
        "model.add(Dense(250, activation='sigmoid'))\n",
        "model.add(Dense(100, activation='sigmoid'))\n",
        "model.add(Dense(n_output_nodels, activation='softmax'))\n",
        "\n",
        "# add a compile layer but don't fit your model yet \n",
        "model.compile(optimizer= 'adam',\n",
        "              loss= 'sparse_categorical_crossentropy',\n",
        "              metrics= ['accuracy'])\n"
      ],
      "execution_count": 81,
      "outputs": []
    },
    {
      "cell_type": "code",
      "metadata": {
        "id": "zEANOQ9AOTOP"
      },
      "source": [
        "# a check that we're using the correct optimizer in this model\n",
        "opt_name = model.optimizer.get_config()[\"name\"]\n",
        "assert opt_name == \"Adam\", \"you need to use adam for the optimizer in this model.\""
      ],
      "execution_count": 82,
      "outputs": []
    },
    {
      "cell_type": "code",
      "metadata": {
        "deletable": false,
        "nbgrader": {
          "cell_type": "code",
          "checksum": "1a4c01aa7dbcc832d75b05bffaeaacc8",
          "grade": false,
          "grade_id": "cell-20118d1646215346",
          "locked": false,
          "schema_version": 3,
          "solution": true,
          "task": false
        },
        "colab": {
          "base_uri": "https://localhost:8080/"
        },
        "id": "YQpxP-IUOTOP",
        "outputId": "8a8daee0-3355-479a-df0b-2bf93e11d446"
      },
      "source": [
        "model.summary()"
      ],
      "execution_count": 83,
      "outputs": [
        {
          "output_type": "stream",
          "text": [
            "Model: \"sequential_10\"\n",
            "_________________________________________________________________\n",
            "Layer (type)                 Output Shape              Param #   \n",
            "=================================================================\n",
            "dense_36 (Dense)             (None, 500)               392500    \n",
            "_________________________________________________________________\n",
            "dense_37 (Dense)             (None, 250)               125250    \n",
            "_________________________________________________________________\n",
            "dense_38 (Dense)             (None, 100)               25100     \n",
            "_________________________________________________________________\n",
            "dense_39 (Dense)             (None, 10)                1010      \n",
            "=================================================================\n",
            "Total params: 543,860\n",
            "Trainable params: 543,860\n",
            "Non-trainable params: 0\n",
            "_________________________________________________________________\n"
          ],
          "name": "stdout"
        }
      ]
    },
    {
      "cell_type": "code",
      "metadata": {
        "colab": {
          "base_uri": "https://localhost:8080/"
        },
        "id": "OmUwiTIu0vnj",
        "outputId": "c5466e56-294d-4a3a-ac80-d03d97db798d"
      },
      "source": [
        "adam_history = model.fit(X_scaled, y,\n",
        "                    epochs=20, \n",
        "                    validation_split=0.2)"
      ],
      "execution_count": 84,
      "outputs": [
        {
          "output_type": "stream",
          "text": [
            "Epoch 1/20\n",
            "2500/2500 [==============================] - 10s 4ms/step - loss: 1.0250 - accuracy: 0.6740 - val_loss: 0.5464 - val_accuracy: 0.8320\n",
            "Epoch 2/20\n",
            "2500/2500 [==============================] - 9s 4ms/step - loss: 0.5126 - accuracy: 0.8425 - val_loss: 0.4581 - val_accuracy: 0.8622\n",
            "Epoch 3/20\n",
            "2500/2500 [==============================] - 9s 4ms/step - loss: 0.4135 - accuracy: 0.8744 - val_loss: 0.4266 - val_accuracy: 0.8726\n",
            "Epoch 4/20\n",
            "2500/2500 [==============================] - 9s 4ms/step - loss: 0.3630 - accuracy: 0.8899 - val_loss: 0.4264 - val_accuracy: 0.8732\n",
            "Epoch 5/20\n",
            "2500/2500 [==============================] - 9s 4ms/step - loss: 0.3086 - accuracy: 0.9053 - val_loss: 0.3841 - val_accuracy: 0.8869\n",
            "Epoch 6/20\n",
            "2500/2500 [==============================] - 9s 4ms/step - loss: 0.2668 - accuracy: 0.9201 - val_loss: 0.4343 - val_accuracy: 0.8744\n",
            "Epoch 7/20\n",
            "2500/2500 [==============================] - 9s 4ms/step - loss: 0.2330 - accuracy: 0.9306 - val_loss: 0.4032 - val_accuracy: 0.8835\n",
            "Epoch 8/20\n",
            "2500/2500 [==============================] - 9s 4ms/step - loss: 0.2010 - accuracy: 0.9402 - val_loss: 0.4290 - val_accuracy: 0.8823\n",
            "Epoch 9/20\n",
            "2500/2500 [==============================] - 9s 4ms/step - loss: 0.1751 - accuracy: 0.9485 - val_loss: 0.4509 - val_accuracy: 0.8831\n",
            "Epoch 10/20\n",
            "2500/2500 [==============================] - 9s 4ms/step - loss: 0.1482 - accuracy: 0.9562 - val_loss: 0.4962 - val_accuracy: 0.8789\n",
            "Epoch 11/20\n",
            "2500/2500 [==============================] - 9s 4ms/step - loss: 0.1287 - accuracy: 0.9613 - val_loss: 0.4870 - val_accuracy: 0.8824\n",
            "Epoch 12/20\n",
            "2500/2500 [==============================] - 9s 4ms/step - loss: 0.1129 - accuracy: 0.9661 - val_loss: 0.5165 - val_accuracy: 0.8819\n",
            "Epoch 13/20\n",
            "2500/2500 [==============================] - 9s 4ms/step - loss: 0.0996 - accuracy: 0.9703 - val_loss: 0.5465 - val_accuracy: 0.8802\n",
            "Epoch 14/20\n",
            "2500/2500 [==============================] - 9s 4ms/step - loss: 0.0873 - accuracy: 0.9739 - val_loss: 0.5584 - val_accuracy: 0.8831\n",
            "Epoch 15/20\n",
            "2500/2500 [==============================] - 9s 4ms/step - loss: 0.0780 - accuracy: 0.9762 - val_loss: 0.5951 - val_accuracy: 0.8801\n",
            "Epoch 16/20\n",
            "2500/2500 [==============================] - 9s 4ms/step - loss: 0.0714 - accuracy: 0.9785 - val_loss: 0.6227 - val_accuracy: 0.8784\n",
            "Epoch 17/20\n",
            "2500/2500 [==============================] - 9s 4ms/step - loss: 0.0583 - accuracy: 0.9823 - val_loss: 0.6389 - val_accuracy: 0.8806\n",
            "Epoch 18/20\n",
            "2500/2500 [==============================] - 9s 4ms/step - loss: 0.0556 - accuracy: 0.9830 - val_loss: 0.6741 - val_accuracy: 0.8797\n",
            "Epoch 19/20\n",
            "2500/2500 [==============================] - 9s 4ms/step - loss: 0.0518 - accuracy: 0.9838 - val_loss: 0.6917 - val_accuracy: 0.8785\n",
            "Epoch 20/20\n",
            "2500/2500 [==============================] - 9s 4ms/step - loss: 0.0466 - accuracy: 0.9865 - val_loss: 0.6949 - val_accuracy: 0.8783\n"
          ],
          "name": "stdout"
        }
      ]
    },
    {
      "cell_type": "code",
      "metadata": {
        "colab": {
          "base_uri": "https://localhost:8080/",
          "height": 355
        },
        "id": "nBWD6_CZ1B2D",
        "outputId": "d9ffa99f-a8e9-43e4-b935-77cddbd432ae"
      },
      "source": [
        "sns.lineplot(epochs, adam_history.history['loss'], label='train')\n",
        "sns.lineplot(epochs, adam_history.history['val_loss'], label= 'test');"
      ],
      "execution_count": 85,
      "outputs": [
        {
          "output_type": "stream",
          "text": [
            "/usr/local/lib/python3.7/dist-packages/seaborn/_decorators.py:43: FutureWarning: Pass the following variables as keyword args: x, y. From version 0.12, the only valid positional argument will be `data`, and passing other arguments without an explicit keyword will result in an error or misinterpretation.\n",
            "  FutureWarning\n",
            "/usr/local/lib/python3.7/dist-packages/seaborn/_decorators.py:43: FutureWarning: Pass the following variables as keyword args: x, y. From version 0.12, the only valid positional argument will be `data`, and passing other arguments without an explicit keyword will result in an error or misinterpretation.\n",
            "  FutureWarning\n"
          ],
          "name": "stderr"
        },
        {
          "output_type": "display_data",
          "data": {
            "image/png": "[encoded data removed]",
            "text/plain": [
              "<Figure size 432x288 with 1 Axes>"
            ]
          },
          "metadata": {
            "tags": [],
            "needs_background": "light"
          }
        }
      ]
    },
    {
      "cell_type": "markdown",
      "metadata": {
        "id": "TtnaRsKSOTOP"
      },
      "source": [
        "### Observations \n",
        "\n",
        "This plot should look very different from the previous plot. Based on the plot of the training and validation loss answer the following questions. "
      ]
    },
    {
      "cell_type": "markdown",
      "metadata": {
        "id": "tlp3GhavOTOP"
      },
      "source": [
        "**Is our model overfitting? Why or why not?**"
      ]
    },
    {
      "cell_type": "markdown",
      "metadata": {
        "deletable": false,
        "nbgrader": {
          "cell_type": "markdown",
          "checksum": "fa4141497af675d227aa510feb8db732",
          "grade": true,
          "grade_id": "cell-7e524ccac970c33e",
          "locked": false,
          "points": 0,
          "schema_version": 3,
          "solution": true,
          "task": false
        },
        "id": "oYhvuafXOTOP"
      },
      "source": [
        "Yes it is! The val_accuracy actually started to \"bounce\" at just 5 epochs and after 20 was actually lower than at 5.  It also had a very high val_loss when comparing to the training accuracy and loss."
      ]
    },
    {
      "cell_type": "markdown",
      "metadata": {
        "id": "EP0GVVnTOTOQ"
      },
      "source": [
        "**Could our model's performance improve by training on more than 20 epochs? Why or why not?**"
      ]
    },
    {
      "cell_type": "markdown",
      "metadata": {
        "deletable": false,
        "nbgrader": {
          "cell_type": "markdown",
          "checksum": "ae03b8b897eb5d052590574ab3bba839",
          "grade": true,
          "grade_id": "cell-456c40e885652955",
          "locked": false,
          "points": 0,
          "schema_version": 3,
          "solution": true,
          "task": false
        },
        "id": "sHeEPZCMOTOQ"
      },
      "source": [
        "No it definitely would not.  It could actually improve by dropping back down to around 3-4 epochs max.  That's where it performed best for both the training and test sets without massive overfitting."
      ]
    },
    {
      "cell_type": "markdown",
      "metadata": {
        "id": "v6VqRF24OTOQ"
      },
      "source": [
        "**Assuming that you want to stick to this model architecture, what can you do to avoid overfitting?**"
      ]
    },
    {
      "cell_type": "markdown",
      "metadata": {
        "deletable": false,
        "nbgrader": {
          "cell_type": "markdown",
          "checksum": "9f5a9393314231d3ce253363c1df1223",
          "grade": true,
          "grade_id": "cell-74d7def19c66702b",
          "locked": false,
          "points": 0,
          "schema_version": 3,
          "solution": true,
          "task": false
        },
        "id": "jD4TVEIXOTOQ"
      },
      "source": [
        "Drop the number of epochs down to 3 or 4.  This minimizes loss and maximizes accuracy without overfitting."
      ]
    },
    {
      "cell_type": "markdown",
      "metadata": {
        "id": "dNCJntehOTOQ"
      },
      "source": [
        "------\n",
        "# Conclusion \n",
        "\n",
        "What you have observed by comparing the two models that are identitical, except for the optimizer, is that the choice of the optimizer can have a very big influence in the training outcome of ML models in general and in a neural networks in particuar. \n",
        "\n",
        "You might not actually know \n",
        "\n",
        "- why changing the optimizer from Stocastic Gradient Descent over to Adam made a difference.\n",
        "- how Gradient Desecent works \n",
        "- or that Adam is known as Adaptive Gradient Descent (i.e. is it a different version of ordinary Gradient Descent). \n",
        "\n",
        "But that's ok - tomorrow's lesson will be a deep dive into Gradient Descent. You'll learn the theory of Gradient Descent, we'll code up Gradient Descent from scratch, and we'll talk about how Adam is different from ordinary Gradient Descent. "
      ]
    },
    {
      "cell_type": "markdown",
      "metadata": {
        "id": "VlZsyZroOTOQ"
      },
      "source": [
        "-----\n",
        "# Preparation for Tomorrow \n",
        "\n",
        "In Preparation for tomorrow, you might need to watch a few videos. I say might because you may or may not already be comfortable with multi-variate calculus. \n",
        "\n",
        "### Theory of Calculus \n",
        "The theory of Gradient Descent rest on [**the derivative from Calculus**](https://www.youtube.com/watch?v=WUvTyaaNkzM). If you've never taken a Calculus course before, or are a bit rusty, definitely watch this video in preparation for tomorrow's lesson. The take away here is to conceptually understand the derivative, you won't be asked to actually calculate any derivatives by hand. \n",
        "\n",
        "### The Gradient - a multi-dimensional derivative\n",
        "Once you've watched the previous video, you are now set up to  understand how to conceptualize a derivative in an N-dimensional space (where N is any number ranging from 2, 3, 4, ..., all the way to a very large number of dimensions N ) [**This video visually explains the multi-dimensional derivative called the Gradient visually**](https://www.youtube.com/watch?v=GkB4vW16QHI) - and that's the take away. This point of this video is to help you understand the Gradient visually using 3D surfaces. You should also know that the Gradient is made of up partial derivatives, more on this tomorrow. \n",
        "\n",
        "### Contour Maps \n",
        "It is very common to visual 3D surfaces as 2D contour maps - and we'll be making a lot of use of contour maps to understand Gradient Descent. Watch this video in order to [**understand the relationship between 3D surfaces and 2D contour maps**](https://www.youtube.com/watch?v=acdX4YamDtU)\n",
        "\n",
        "### The Calculus of Backpropagation \n",
        "\n",
        "Unlike standard Sklearn ML models, neural networks use not just Gradient Descent but also something called Backpropagatin in order to learn from the data. [**In order to understand how backpropagation works, you need to understand the Chain Rule in Calculus**](https://www.youtube.com/watch?v=acdX4YamDtU). The take away here is to understand how a partial derivative can be decomposed into a product of multiple derivatives. "
      ]
    },
    {
      "cell_type": "markdown",
      "metadata": {
        "id": "QVJSBey7OTOR"
      },
      "source": [
        "------\n",
        "# Stretch Goals\n",
        "\n",
        "### This section is optional!\n",
        "\n",
        "Only after you've completed the above work and watched the recommended videos, are you then encouraged to experiment with building a few more models and analyze their results. \n",
        "\n",
        "Here are some suggestions to help you get started. \n",
        "\n",
        "- Train the same model using the Sigmoid activation fucntion and the Relu activation function and note the difference in their learning outcomes.  [**Keras docs on activation fucntions**](https://keras.io/api/layers/activations/). We'll cover the Relu activation function in Sprint 2 Module 3.\n",
        "- Train the same model using Normalized and non-Normalized data and note the difference in their learning outcomes. \n",
        "\n",
        "\n",
        "The objective here is to give you an oppertunity to get more practice with the Keras API (i.e. building models) and running a couple of experiments to help set you up for future lessons. In order words, we'll be discussing different activation functions and the affect of Normalized data on model training. "
      ]
    },
    {
      "cell_type": "code",
      "metadata": {
        "id": "JzNonMUDOTOR"
      },
      "source": [
        ""
      ],
      "execution_count": null,
      "outputs": []
    },
    {
      "cell_type": "code",
      "metadata": {
        "id": "jlhLjopIOTOR"
      },
      "source": [
        ""
      ],
      "execution_count": null,
      "outputs": []
    }
  ]
}